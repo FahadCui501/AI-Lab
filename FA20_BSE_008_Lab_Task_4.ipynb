{
  "nbformat": 4,
  "nbformat_minor": 0,
  "metadata": {
    "colab": {
      "provenance": []
    },
    "kernelspec": {
      "name": "python3",
      "display_name": "Python 3"
    },
    "language_info": {
      "name": "python"
    }
  },
  "cells": [
    {
      "cell_type": "code",
      "execution_count": 7,
      "metadata": {
        "colab": {
          "base_uri": "https://localhost:8080/"
        },
        "id": "AS_yYzK2emVr",
        "outputId": "e7ffc089-3180-4ba9-d133-3a5f03b7bcd1"
      },
      "outputs": [
        {
          "output_type": "stream",
          "name": "stdout",
          "text": [
            "Dad\n",
            "True\n"
          ]
        }
      ],
      "source": [
        "def isPalindrome(word):\n",
        "  temp = word[::-1]\n",
        "  if temp.capitalize() == word.capitalize():\n",
        "    print(temp)\n",
        "    return True\n",
        "  else:\n",
        "    return False\n",
        "\n",
        "print(isPalindrome(\"dad\"))\n"
      ]
    },
    {
      "cell_type": "code",
      "source": [
        "def isPalindrome(word):\n",
        "  temp = word[::-1]\n",
        "  if temp.capitalize() == word.capitalize():\n",
        "    print(temp)\n",
        "    return True\n",
        "  else:\n",
        "    return False\n",
        "\n",
        "word = input(\"Enter a Name: \")\n",
        "print(isPalindrome(word))\n"
      ],
      "metadata": {
        "colab": {
          "base_uri": "https://localhost:8080/"
        },
        "id": "VbjJGnKtgns3",
        "outputId": "d59394fb-4460-4427-d2f2-33231d5eeb57"
      },
      "execution_count": 12,
      "outputs": [
        {
          "output_type": "stream",
          "name": "stdout",
          "text": [
            "Enter a Name: dad\n",
            "dad\n",
            "True\n"
          ]
        }
      ]
    },
    {
      "cell_type": "code",
      "source": [
        "a = [[1,0,0],[0,1,0],[0,0,1]]\n",
        "b = [[1,2,3],[4,5,6],[7,8,9]]\n",
        "print(a[2][2])"
      ],
      "metadata": {
        "colab": {
          "base_uri": "https://localhost:8080/"
        },
        "id": "ofJoYrpwjWfa",
        "outputId": "93de802d-570a-4baf-9f07-64c7f9f2ccd1"
      },
      "execution_count": 17,
      "outputs": [
        {
          "output_type": "stream",
          "name": "stdout",
          "text": [
            "1\n"
          ]
        }
      ]
    },
    {
      "cell_type": "code",
      "source": [
        "a = [[1,0,0],[0,1,0],[0,0,1]]\n",
        "b = [[1,2,3],[4,5,6],[7,8,9]]\n",
        "print(a[-3][0])"
      ],
      "metadata": {
        "colab": {
          "base_uri": "https://localhost:8080/"
        },
        "id": "MQIoasQrklSZ",
        "outputId": "525abe83-305f-44c3-d4f5-fac89dd38f94"
      },
      "execution_count": 20,
      "outputs": [
        {
          "output_type": "stream",
          "name": "stdout",
          "text": [
            "1\n"
          ]
        }
      ]
    },
    {
      "cell_type": "code",
      "source": [
        "a = [[[1,0,0],[0,1,0],[0,0,1]],\n",
        "    [[1,2,3],[4,5,6],[7,8,9]]]\n",
        "print(a[-1][0][-1])"
      ],
      "metadata": {
        "colab": {
          "base_uri": "https://localhost:8080/"
        },
        "id": "dE8wF_ablslY",
        "outputId": "2371a89f-fe05-43ff-d36e-5d4685389631"
      },
      "execution_count": 25,
      "outputs": [
        {
          "output_type": "stream",
          "name": "stdout",
          "text": [
            "3\n"
          ]
        }
      ]
    },
    {
      "cell_type": "code",
      "source": [
        "def perimeter(listing): \n",
        "  leng=len(listing) \n",
        "  perimeter=0; \n",
        "  for i in range(0,leng-1): \n",
        "    dist = (((listing[i][0]-listing[i+1][0])**2)+ ((listing[i][1]-listing[i+1][1])**2))**0.5 \n",
        "    perimeter = perimeter + dist \n",
        "    perimeter = perimeter + (((listing[0][0]-listing[leng-1][0])**2) +((listing[0][1]-listing[leng-1][1])**2))**0.5 \n",
        "    return perimeter \n",
        "L = [(1,3), (2,7), (3,9), (-1,8)] \n",
        "print(perimeter(L)) \n"
      ],
      "metadata": {
        "colab": {
          "base_uri": "https://localhost:8080/"
        },
        "id": "J40UMjbQnEGH",
        "outputId": "7a79b052-508e-45f3-defd-6274dd5f8d78"
      },
      "execution_count": 32,
      "outputs": [
        {
          "output_type": "stream",
          "name": "stdout",
          "text": [
            "9.508270432752164\n"
          ]
        }
      ]
    }
  ]
}