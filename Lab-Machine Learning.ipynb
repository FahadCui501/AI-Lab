{
  "nbformat": 4,
  "nbformat_minor": 0,
  "metadata": {
    "colab": {
      "provenance": [],
      "authorship_tag": "ABX9TyPsME6wtfGjD+khUpd0E2/O",
      "include_colab_link": true
    },
    "kernelspec": {
      "name": "python3",
      "display_name": "Python 3"
    },
    "language_info": {
      "name": "python"
    }
  },
  "cells": [
    {
      "cell_type": "markdown",
      "metadata": {
        "id": "view-in-github",
        "colab_type": "text"
      },
      "source": [
        "<a href=\"https://colab.research.google.com/github/FahadCui501/AI-Lab/blob/main/Lab-Machine%20Learning.ipynb\" target=\"_parent\"><img src=\"https://colab.research.google.com/assets/colab-badge.svg\" alt=\"Open In Colab\"/></a>"
      ]
    },
    {
      "cell_type": "code",
      "execution_count": 1,
      "metadata": {
        "id": "s4O2FOv_Anjh"
      },
      "outputs": [],
      "source": [
        "import pandas as pd"
      ]
    },
    {
      "cell_type": "code",
      "source": [
        "df = pd.read_csv(\"/content/data.csv\")"
      ],
      "metadata": {
        "id": "p77WWvhQC1kR"
      },
      "execution_count": 5,
      "outputs": []
    },
    {
      "cell_type": "code",
      "source": [
        "print(df)"
      ],
      "metadata": {
        "colab": {
          "base_uri": "https://localhost:8080/"
        },
        "id": "dX5lXYHMDcJ4",
        "outputId": "16f87bf4-d31d-4c74-cdc3-31a3a7cb0d45"
      },
      "execution_count": 7,
      "outputs": [
        {
          "output_type": "stream",
          "name": "stdout",
          "text": [
            "     gender   age  hypertension  heart_disease smoking_history    bmi  \\\n",
            "0    Female  80.0             0              1           never  25.19   \n",
            "1    Female  54.0             0              0         No Info  27.32   \n",
            "2      Male  28.0             0              0           never  27.32   \n",
            "3    Female  36.0             0              0         current  23.45   \n",
            "4      Male  76.0             1              1         current  20.14   \n",
            "..      ...   ...           ...            ...             ...    ...   \n",
            "289    Male  10.0             0              0         No Info  19.00   \n",
            "290    Male  27.0             0              0           never  20.53   \n",
            "291    Male  48.0             0              0         No Info  27.32   \n",
            "292  Female  57.0             0              0           never  25.80   \n",
            "293  Female  48.0             0              0           never  20.19   \n",
            "\n",
            "     HbA1c_level  blood_glucose_level  diabetes  \n",
            "0            6.6                  140         0  \n",
            "1            6.6                   80         0  \n",
            "2            5.7                  158         0  \n",
            "3            5.0                  155         0  \n",
            "4            4.8                  155         0  \n",
            "..           ...                  ...       ...  \n",
            "289          6.6                  155         0  \n",
            "290          6.6                  155         0  \n",
            "291          4.8                  200         0  \n",
            "292          3.5                  130         0  \n",
            "293          7.0                  145         1  \n",
            "\n",
            "[294 rows x 9 columns]\n"
          ]
        }
      ]
    },
    {
      "cell_type": "code",
      "source": [],
      "metadata": {
        "id": "M_swYPweFEu9"
      },
      "execution_count": null,
      "outputs": []
    }
  ]
}