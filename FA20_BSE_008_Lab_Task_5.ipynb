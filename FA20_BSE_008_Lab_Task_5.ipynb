{
  "nbformat": 4,
  "nbformat_minor": 0,
  "metadata": {
    "colab": {
      "provenance": []
    },
    "kernelspec": {
      "name": "python3",
      "display_name": "Python 3"
    },
    "language_info": {
      "name": "python"
    }
  },
  "cells": [
    {
      "cell_type": "code",
      "execution_count": 9,
      "metadata": {
        "colab": {
          "base_uri": "https://localhost:8080/"
        },
        "id": "VtxnM5QzD3H-",
        "outputId": "58d96e2a-e1b9-4523-ca99-f94d944ccad0"
      },
      "outputs": [
        {
          "output_type": "stream",
          "name": "stdout",
          "text": [
            "['A', 'C', 'F']\n"
          ]
        }
      ],
      "source": [
        "class Node:\n",
        "  def __init__(self,state,parent,actions,totalCost):\n",
        "    self.state = state\n",
        "    self.parent = parent\n",
        "    self.actions = actions\n",
        "    self.totalCost = totalCost\n",
        "\n",
        "graph = {\n",
        "    \n",
        "    'A':Node('A',None,['B','C','E'],None),\n",
        "    'B':Node('B',None,['A','D','E'],None),\n",
        "    'C':Node('C',None,['A','F','G'],None),\n",
        "    'D':Node('D',None,['B','E'],None),\n",
        "    'E':Node('E',None,['A','B','D'],None),\n",
        "    'F':Node('F',None,['C'],None),\n",
        "    'G':Node('G',None,['C'],None),\n",
        "}\n",
        "\n",
        "\n",
        "def acionSequence(graph, initialState,goalState):\n",
        "  solution = [goalState]\n",
        "  currentParent = graph[goalState].parent\n",
        "  while currentParent != None:\n",
        "    solution.append(currentParent)\n",
        "    currentParent = graph[currentParent].parent\n",
        "  solution.reverse()\n",
        "  print(solution)\n",
        "  return solution\n",
        "\n",
        "\n",
        "def BFS():\n",
        "  initialState = 'A'\n",
        "  goalState = 'F'\n",
        "  frontier = [initialState]\n",
        "  explored = []\n",
        "  \n",
        "  while len(frontier)!=0:\n",
        "    currentNode = frontier.pop(0)\n",
        "    explored.append(currentNode)\n",
        "    for child in graph[currentNode].actions:\n",
        "      if child not in frontier and child not in explored:\n",
        "        graph[child].parent = currentNode\n",
        "        if graph[child].state == goalState:\n",
        "          return acionSequence(graph,initialState,goalState)\n",
        "        frontier.append(child)\n",
        "solution = BFS()"
      ]
    }
  ]
}